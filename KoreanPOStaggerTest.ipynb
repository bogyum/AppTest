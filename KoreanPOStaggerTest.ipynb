{
  "nbformat": 4,
  "nbformat_minor": 0,
  "metadata": {
    "colab": {
      "provenance": [],
      "gpuType": "T4",
      "include_colab_link": true
    },
    "kernelspec": {
      "name": "python3",
      "display_name": "Python 3"
    },
    "language_info": {
      "name": "python"
    },
    "accelerator": "GPU"
  },
  "cells": [
    {
      "cell_type": "markdown",
      "metadata": {
        "id": "view-in-github",
        "colab_type": "text"
      },
      "source": [
        "<a href=\"https://colab.research.google.com/github/bogyum/AppTest/blob/main/KoreanPOStaggerTest.ipynb\" target=\"_parent\"><img src=\"https://colab.research.google.com/assets/colab-badge.svg\" alt=\"Open In Colab\"/></a>"
      ]
    },
    {
      "cell_type": "markdown",
      "source": [
        "## 1. 라이브러리 설치"
      ],
      "metadata": {
        "id": "A7eEUXsnmFRX"
      }
    },
    {
      "cell_type": "code",
      "execution_count": null,
      "metadata": {
        "id": "TcFEgPIcktXf",
        "colab": {
          "base_uri": "https://localhost:8080/"
        },
        "outputId": "74062cbb-86e5-4314-9956-1e28f98788e2"
      },
      "outputs": [
        {
          "output_type": "stream",
          "name": "stdout",
          "text": [
            "Get:1 https://cloud.r-project.org/bin/linux/ubuntu jammy-cran40/ InRelease [3,626 B]\n",
            "Hit:2 https://developer.download.nvidia.com/compute/cuda/repos/ubuntu2204/x86_64  InRelease\n",
            "Hit:3 http://archive.ubuntu.com/ubuntu jammy InRelease\n",
            "Get:4 http://archive.ubuntu.com/ubuntu jammy-updates InRelease [119 kB]\n",
            "Get:5 http://security.ubuntu.com/ubuntu jammy-security InRelease [110 kB]\n",
            "Hit:6 https://ppa.launchpadcontent.net/c2d4u.team/c2d4u4.0+/ubuntu jammy InRelease\n",
            "Hit:7 https://ppa.launchpadcontent.net/deadsnakes/ppa/ubuntu jammy InRelease\n",
            "Hit:8 http://archive.ubuntu.com/ubuntu jammy-backports InRelease\n",
            "Hit:9 https://ppa.launchpadcontent.net/graphics-drivers/ppa/ubuntu jammy InRelease\n",
            "Get:10 http://archive.ubuntu.com/ubuntu jammy-updates/universe amd64 Packages [1,278 kB]\n",
            "Hit:11 https://ppa.launchpadcontent.net/ubuntugis/ppa/ubuntu jammy InRelease\n",
            "Get:12 http://security.ubuntu.com/ubuntu jammy-security/multiverse amd64 Packages [44.0 kB]\n",
            "Get:13 http://archive.ubuntu.com/ubuntu jammy-updates/multiverse amd64 Packages [49.8 kB]\n",
            "Get:14 http://archive.ubuntu.com/ubuntu jammy-updates/main amd64 Packages [1,473 kB]\n",
            "Fetched 3,077 kB in 2s (1,362 kB/s)\n",
            "Reading package lists...\n",
            "Reading package lists...\n",
            "Building dependency tree...\n",
            "Reading state information...\n",
            "Requirement already satisfied: pip in /usr/local/lib/python3.10/dist-packages (23.1.2)\n",
            "Collecting pip\n",
            "  Downloading pip-23.3.1-py3-none-any.whl (2.1 MB)\n",
            "     ━━━━━━━━━━━━━━━━━━━━━━━━━━━━━━━━━━━━━━━━ 2.1/2.1 MB 27.8 MB/s eta 0:00:00\n",
            "Installing collected packages: pip\n",
            "  Attempting uninstall: pip\n",
            "    Found existing installation: pip 23.1.2\n",
            "    Uninstalling pip-23.1.2:\n",
            "      Successfully uninstalled pip-23.1.2\n",
            "Successfully installed pip-23.3.1\n",
            "Collecting JPype1\n",
            "  Downloading JPype1-1.4.1-cp310-cp310-manylinux_2_12_x86_64.manylinux2010_x86_64.whl (465 kB)\n",
            "     ━━━━━━━━━━━━━━━━━━━━━━━━━━━━━━━━━━━━━━━━ 465.3/465.3 kB 4.6 MB/s eta 0:00:00\n",
            "Requirement already satisfied: packaging in /usr/local/lib/python3.10/dist-packages (from JPype1) (23.2)\n",
            "Installing collected packages: JPype1\n",
            "Successfully installed JPype1-1.4.1\n",
            "Collecting konlpy\n",
            "  Downloading konlpy-0.6.0-py2.py3-none-any.whl (19.4 MB)\n",
            "     ━━━━━━━━━━━━━━━━━━━━━━━━━━━━━━━━━━━━━━━━ 19.4/19.4 MB 76.1 MB/s eta 0:00:00\n",
            "Requirement already satisfied: JPype1>=0.7.0 in /usr/local/lib/python3.10/dist-packages (from konlpy) (1.4.1)\n",
            "Requirement already satisfied: lxml>=4.1.0 in /usr/local/lib/python3.10/dist-packages (from konlpy) (4.9.3)\n",
            "Requirement already satisfied: numpy>=1.6 in /usr/local/lib/python3.10/dist-packages (from konlpy) (1.23.5)\n",
            "Requirement already satisfied: packaging in /usr/local/lib/python3.10/dist-packages (from JPype1>=0.7.0->konlpy) (23.2)\n",
            "Installing collected packages: konlpy\n",
            "Successfully installed konlpy-0.6.0\n"
          ]
        },
        {
          "output_type": "stream",
          "name": "stderr",
          "text": [
            "E: Unable to locate package curl#기본\n",
            "E: Unable to locate package 모듈\n",
            "WARNING: Running pip as the 'root' user can result in broken permissions and conflicting behaviour with the system package manager. It is recommended to use a virtual environment instead: https://pip.pypa.io/warnings/venv\n",
            "WARNING: Running pip as the 'root' user can result in broken permissions and conflicting behaviour with the system package manager. It is recommended to use a virtual environment instead: https://pip.pypa.io/warnings/venv\n"
          ]
        }
      ],
      "source": [
        "# bash shell 로 명령어 입력하여 라이브러리 설치하기\n",
        "\n",
        "%%bash\n",
        "apt-get update\n",
        "apt-get install g++ openjdk-8-jdk python3-dev curl#기본 모듈\n",
        "\n",
        "python3 -m pip install --upgrade pip\n",
        "\n",
        "pip3 install JPype1\n",
        "pip3 install konlpy #한국어 형태소 분석"
      ]
    },
    {
      "cell_type": "markdown",
      "source": [
        "## 2. 자바 환경설정"
      ],
      "metadata": {
        "id": "ygHwrenPmSa2"
      }
    },
    {
      "cell_type": "code",
      "source": [
        "# JAVA_HOME 환경변수 설정하기\n",
        "\n",
        "%env JAVA_HOME \"/usr/lib/jvm/java-8-openjdk-amd64\""
      ],
      "metadata": {
        "id": "ZdxZrJBPlKcM",
        "colab": {
          "base_uri": "https://localhost:8080/"
        },
        "outputId": "b3c4d42c-550d-4573-a71f-7cdacda9421c"
      },
      "execution_count": null,
      "outputs": [
        {
          "output_type": "stream",
          "name": "stdout",
          "text": [
            "env: JAVA_HOME=\"/usr/lib/jvm/java-8-openjdk-amd64\"\n"
          ]
        }
      ]
    },
    {
      "cell_type": "markdown",
      "source": [
        "## 3. Okt(트위터 형태소 분석기) 테스트하기\n",
        "-----------------------------------------\n",
        "- Hannanum(한나눔) - KAIST 말뭉치를 이용해 생성된 사전\n",
        "- Kkma(꼬꼬마) - 세종 말뭉치를 이용해 생성된 사전 -> 정확한 품사 분류\n",
        "- Mecab(메캅) - 세종 말뭉치로 만들어진 CSV형태의 사전\n",
        "- Komoran(코모란) - Java로 쓰여진 오픈소스 한글 형태소 분석기 -> 정확성과 속도\n",
        "- Twitter(Okt) - 오픈소스 한글 형태소 분석기 -> 빠른 분석"
      ],
      "metadata": {
        "id": "C_QT2u-OmZ5r"
      }
    },
    {
      "cell_type": "code",
      "source": [
        "# 라이브러리 불러오기 - Okt\n",
        "from konlpy.tag import Okt"
      ],
      "metadata": {
        "id": "PmmxU01plnDq"
      },
      "execution_count": null,
      "outputs": []
    },
    {
      "cell_type": "code",
      "source": [
        "# 객체 생성\n",
        "okt = Okt()"
      ],
      "metadata": {
        "id": "6aoF4vRVlrCR"
      },
      "execution_count": null,
      "outputs": []
    },
    {
      "cell_type": "code",
      "source": [
        "# 형태소 리스트 출력\n",
        "print(\"okt.morphs: \", okt.morphs(\"안녕하세요. 오늘은 날씨가 매우 좋네요.\"))"
      ],
      "metadata": {
        "id": "WggSjLDVltfY",
        "colab": {
          "base_uri": "https://localhost:8080/"
        },
        "outputId": "972de939-c167-4b0d-c88e-080af0b8f72b"
      },
      "execution_count": null,
      "outputs": [
        {
          "output_type": "stream",
          "name": "stdout",
          "text": [
            "okt.morphs:  ['안녕하세요', '.', '오늘', '은', '날씨', '가', '매우', '좋네요', '.']\n"
          ]
        }
      ]
    },
    {
      "cell_type": "code",
      "source": [
        "# 명사 리스트 출력\n",
        "print(\"okt.nouns: \", okt.nouns(\"안녕하세요. 오늘은 날씨가 매우 좋네요.\"))"
      ],
      "metadata": {
        "id": "cn85Dxl5l1Zg",
        "colab": {
          "base_uri": "https://localhost:8080/"
        },
        "outputId": "31f1c9a1-f44c-4b45-bdb8-70cdf79c4d74"
      },
      "execution_count": null,
      "outputs": [
        {
          "output_type": "stream",
          "name": "stdout",
          "text": [
            "okt.nouns:  ['오늘', '날씨', '매우']\n"
          ]
        }
      ]
    },
    {
      "cell_type": "code",
      "source": [
        "# 형태소 + 품사(POS tagger) 출력\n",
        "print(\"okt.pos: \", okt.pos(\"안녕하세요. 오늘은 날씨가 매우 좋네요.\"))"
      ],
      "metadata": {
        "id": "iGsWtbE4l8tH",
        "colab": {
          "base_uri": "https://localhost:8080/"
        },
        "outputId": "5f45caab-5f05-4145-8038-e22f4b3cb636"
      },
      "execution_count": null,
      "outputs": [
        {
          "output_type": "stream",
          "name": "stdout",
          "text": [
            "okt.pos:  [('안녕하세요', 'Adjective'), ('.', 'Punctuation'), ('오늘', 'Noun'), ('은', 'Josa'), ('날씨', 'Noun'), ('가', 'Josa'), ('매우', 'Noun'), ('좋네요', 'Adjective'), ('.', 'Punctuation')]\n"
          ]
        }
      ]
    },
    {
      "cell_type": "code",
      "source": [
        "# 라이브러리 불러오기 - Mecab\n",
        "from konlpy.tag import Okt, Komoran, Mecab, Hannanum, Kkma"
      ],
      "metadata": {
        "id": "6uw2ds2ImDdu"
      },
      "execution_count": null,
      "outputs": []
    },
    {
      "cell_type": "code",
      "source": [
        "def get_tokenizer(tokenizer_name):\n",
        "  if tokenizer_name == 'komoran':\n",
        "    tokenizer = Komoran()\n",
        "  elif tokenizer_name == 'okt':\n",
        "    tokenizer = Okt()\n",
        "  elif tokenizer_name == 'mecab':\n",
        "    tokenizer = Mecab()\n",
        "  elif tokenizer_name == 'hannanum':\n",
        "    tokenizer = Hannanum()\n",
        "  elif tokenizer_name == 'kkma':\n",
        "    tokenizer = Kkma()\n",
        "  else:\n",
        "    tokenizer = Mecab()\n",
        "\n",
        "  return tokenizer"
      ],
      "metadata": {
        "id": "9EKJBxLkOqWG"
      },
      "execution_count": null,
      "outputs": []
    },
    {
      "cell_type": "code",
      "source": [
        "tokenizer = get_tokenizer('kkma')\n",
        "tokenizer.morphs('아버지가방에들어가신다')"
      ],
      "metadata": {
        "colab": {
          "base_uri": "https://localhost:8080/"
        },
        "id": "b7rHSqSVOy2n",
        "outputId": "822137b8-bbb0-471a-8ef9-23738777f021"
      },
      "execution_count": null,
      "outputs": [
        {
          "output_type": "execute_result",
          "data": {
            "text/plain": [
              "['아버지', '가방', '에', '들어가', '시', 'ㄴ다']"
            ]
          },
          "metadata": {},
          "execution_count": 10
        }
      ]
    },
    {
      "cell_type": "code",
      "source": [
        "tokenizer.pos('아버지가방에들어가신다')"
      ],
      "metadata": {
        "colab": {
          "base_uri": "https://localhost:8080/"
        },
        "id": "B-tZRIx6P3fi",
        "outputId": "bba31086-3f56-4dab-de31-1fb4cca19e56"
      },
      "execution_count": null,
      "outputs": [
        {
          "output_type": "execute_result",
          "data": {
            "text/plain": [
              "[('아버지', 'NNG'),\n",
              " ('가방', 'NNG'),\n",
              " ('에', 'JKM'),\n",
              " ('들어가', 'VV'),\n",
              " ('시', 'EPH'),\n",
              " ('ㄴ다', 'EFN')]"
            ]
          },
          "metadata": {},
          "execution_count": 11
        }
      ]
    },
    {
      "cell_type": "code",
      "source": [],
      "metadata": {
        "id": "KKvRd-qme2Y-"
      },
      "execution_count": null,
      "outputs": []
    }
  ]
}